{
 "cells": [
  {
   "cell_type": "code",
   "execution_count": 145,
   "id": "00e49683",
   "metadata": {},
   "outputs": [],
   "source": [
    "import numpy as np\n",
    "import heapq\n",
    "import numpy as np\n",
    "import matplotlib.pyplot as plt\n",
    "from matplotlib.pyplot import figure"
   ]
  },
  {
   "cell_type": "code",
   "execution_count": 146,
   "id": "9c9b4668",
   "metadata": {},
   "outputs": [],
   "source": [
    "#Let's create a 10x10 numpy array filled with 1's and 0's as below.  \n",
    "#The 0's will be positions that we're allowed to travel on, and the 1's will be obstacles.\n",
    "\n",
    "grid = np.array([\n",
    "    [0, 0, 0, 0, 0, 0, 1, 1, 1, 0],\n",
    "    [0, 0, 0, 1, 0, 0, 1, 1, 1, 0],\n",
    "    [0, 0, 0, 0, 1, 0, 1, 0, 1, 0],\n",
    "    [0, 0, 0, 0, 0, 1, 0, 0, 1, 0],\n",
    "    [0, 0, 0, 0, 0, 0, 0, 0, 1, 0],\n",
    "    [0, 0, 0, 1, 1, 1, 0, 0, 1, 0],\n",
    "    [0, 0, 1, 0, 0, 0, 0, 0, 1, 0],\n",
    "    [0, 0, 0, 0, 0, 0, 0, 1, 1, 1],\n",
    "    [0, 0, 0, 1, 0, 0, 0, 1, 0, 0],\n",
    "    [0, 0, 0, 0, 0, 0, 0, 0, 0, 0]])"
   ]
  },
  {
   "cell_type": "code",
   "execution_count": 147,
   "id": "54848c65",
   "metadata": {},
   "outputs": [],
   "source": [
    "# start point and goal\n",
    "start = (0,0)\n",
    "goal = (9,9)"
   ]
  },
  {
   "cell_type": "code",
   "execution_count": 148,
   "id": "19caefa5",
   "metadata": {},
   "outputs": [
    {
     "data": {
      "image/png": "[encoded data removed]",
      "text/plain": [
       "<Figure size 864x864 with 1 Axes>"
      ]
     },
     "metadata": {
      "needs_background": "light"
     },
     "output_type": "display_data"
    }
   ],
   "source": [
    "# plot map and path\n",
    "fig, ax = plt.subplots(figsize=(12,12))\n",
    "ax.imshow(grid, cmap=plt.cm.Dark2)\n",
    "ax.scatter(start[0],start[0], marker = \"o\", color = \"red\", s = 200)\n",
    "ax.scatter(goal[1],goal[1], marker = \"*\", color = \"red\", s = 200)\n",
    "plt.show()"
   ]
  },
  {
   "cell_type": "code",
   "execution_count": 149,
   "id": "e6ba3b5e",
   "metadata": {},
   "outputs": [],
   "source": [
    "def heuristic(a, b):\n",
    "    return np.sqrt((b[0] - a[0]) ** 2 + (b[1] - a[1]) ** 2)"
   ]
  },
  {
   "cell_type": "code",
   "execution_count": 150,
   "id": "117e96c8",
   "metadata": {},
   "outputs": [],
   "source": [
    "#Main Path Finding Function:\n",
    "\n",
    "def astar(array, start, goal):\n",
    "    neighbors = [(0,1),(0,-1),(1,0),(-1,0),(1,1),(1,-1),(-1,1),(-1,-1)]\n",
    "    close_set = set()\n",
    "    came_from = {}\n",
    "    gscore = {start:0}\n",
    "    fscore = {start:heuristic(start, goal)}\n",
    "    oheap = []\n",
    "    heapq.heappush(oheap, (fscore[start], start))\n",
    "    while oheap:\n",
    "        current = heapq.heappop(oheap)[1]\n",
    "        if current == goal:\n",
    "            data = []\n",
    "            while current in came_from:\n",
    "                data.append(current)\n",
    "                current = came_from[current]\n",
    "            return data\n",
    "        close_set.add(current)       \n",
    "        for i, j in neighbors:\n",
    "            neighbor = current[0] + i, current[1] + j            \n",
    "            tentative_g_score = gscore[current] + heuristic(current, neighbor)\n",
    "            if 0 <= neighbor[0] < array.shape[0]:\n",
    "                if 0 <= neighbor[1] < array.shape[1]:                \n",
    "                    if array[neighbor[0]][neighbor[1]] == 1:\n",
    "                        continue\n",
    "                else:\n",
    "                    # array bound y walls\n",
    "                    continue\n",
    "            else:\n",
    "                # array bound x walls\n",
    "                continue\n",
    "            if neighbor in close_set and tentative_g_score >= gscore.get(neighbor, 0):\n",
    "                continue         \n",
    "            if tentative_g_score < gscore.get(neighbor, 0) or neighbor not in [i[1]for i in oheap]:\n",
    "                came_from[neighbor] = current\n",
    "                gscore[neighbor] = tentative_g_score\n",
    "                fscore[neighbor] = tentative_g_score + heuristic(neighbor, goal)\n",
    "                heapq.heappush(oheap, (fscore[neighbor], neighbor)) "
   ]
  },
  {
   "cell_type": "code",
   "execution_count": 151,
   "id": "f1ce6b46",
   "metadata": {},
   "outputs": [],
   "source": [
    "route = astar(grid, start, goal)"
   ]
  },
  {
   "cell_type": "code",
   "execution_count": 152,
   "id": "582bfeba",
   "metadata": {},
   "outputs": [
    {
     "name": "stdout",
     "output_type": "stream",
     "text": [
      "[(9, 9), (9, 8), (9, 7), (8, 6), (7, 6), (6, 6), (5, 6), (4, 5), (3, 4), (2, 3), (1, 2), (1, 1)]\n"
     ]
    }
   ],
   "source": [
    "print(route)"
   ]
  },
  {
   "cell_type": "code",
   "execution_count": 153,
   "id": "dcbcc04d",
   "metadata": {},
   "outputs": [
    {
     "name": "stdout",
     "output_type": "stream",
     "text": [
      "[(0, 0), (1, 1), (1, 2), (2, 3), (3, 4), (4, 5), (5, 6), (6, 6), (7, 6), (8, 6), (9, 7), (9, 8), (9, 9)]\n"
     ]
    }
   ],
   "source": [
    "#Add start position:\n",
    "route = route + [start]\n",
    "\n",
    "#Reverse the order:\n",
    "route = route[::-1]\n",
    "\n",
    "#Now if we print this list, we get what we want...\n",
    "print(route)"
   ]
  },
  {
   "cell_type": "code",
   "execution_count": 154,
   "id": "cc9b5fb6",
   "metadata": {},
   "outputs": [
    {
     "data": {
      "image/png": "[encoded data removed]",
      "text/plain": [
       "<Figure size 864x864 with 1 Axes>"
      ]
     },
     "metadata": {
      "needs_background": "light"
     },
     "output_type": "display_data"
    }
   ],
   "source": [
    "import matplotlib.pyplot as plt\n",
    "from matplotlib.pyplot import figure\n",
    "\n",
    "#extract x and y coordinates from route list\n",
    "x_coords = []\n",
    "y_coords = []\n",
    "for i in (range(0,len(route))):\n",
    "    x = route[i][0]\n",
    "    y = route[i][1]\n",
    "    x_coords.append(x)\n",
    "    y_coords.append(y)\n",
    "\n",
    "# plot map and path\n",
    "\n",
    "fig, ax = plt.subplots(figsize=(12,12))\n",
    "ax.imshow(grid, cmap=plt.cm.Dark2)\n",
    "ax.scatter(start[1],start[0], marker = \"o\", color = \"red\", s = 200)\n",
    "ax.scatter(goal[1],goal[1], marker = \"*\", color = \"red\", s = 200)\n",
    "ax.plot(y_coords,x_coords, color = \"blue\")\n",
    "plt.show()"
   ]
  }
 ],
 "metadata": {
  "kernelspec": {
   "display_name": "Python 3 (ipykernel)",
   "language": "python",
   "name": "python3"
  },
  "language_info": {
   "codemirror_mode": {
    "name": "ipython",
    "version": 3
   },
   "file_extension": ".py",
   "mimetype": "text/x-python",
   "name": "python",
   "nbconvert_exporter": "python",
   "pygments_lexer": "ipython3",
   "version": "3.8.13"
  }
 },
 "nbformat": 4,
 "nbformat_minor": 5
}
